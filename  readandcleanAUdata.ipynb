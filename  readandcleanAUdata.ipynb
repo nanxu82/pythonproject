{
 "cells": [
  {
   "cell_type": "markdown",
   "id": "6a103f5b",
   "metadata": {},
   "source": [
    "Load and clean data"
   ]
  },
  {
   "cell_type": "code",
   "execution_count": 1,
   "id": "79e0a1bf",
   "metadata": {},
   "outputs": [],
   "source": [
    "import pandas as pd\n",
    "import requests\n",
    "from bs4 import BeautifulSoup"
   ]
  },
  {
   "cell_type": "code",
   "execution_count": 2,
   "id": "730840e8",
   "metadata": {},
   "outputs": [],
   "source": [
    "data_jobs_AU  = pd.read_csv('data_jobs_AU_16112021.csv')"
   ]
  },
  {
   "cell_type": "code",
   "execution_count": 3,
   "id": "04679e5f",
   "metadata": {},
   "outputs": [
    {
     "data": {
      "text/html": [
       "<div>\n",
       "<style scoped>\n",
       "    .dataframe tbody tr th:only-of-type {\n",
       "        vertical-align: middle;\n",
       "    }\n",
       "\n",
       "    .dataframe tbody tr th {\n",
       "        vertical-align: top;\n",
       "    }\n",
       "\n",
       "    .dataframe thead th {\n",
       "        text-align: right;\n",
       "    }\n",
       "</style>\n",
       "<table border=\"1\" class=\"dataframe\">\n",
       "  <thead>\n",
       "    <tr style=\"text-align: right;\">\n",
       "      <th></th>\n",
       "      <th>Unnamed: 0</th>\n",
       "      <th>job_title</th>\n",
       "      <th>job_link</th>\n",
       "      <th>company_name</th>\n",
       "      <th>salary</th>\n",
       "      <th>job_location</th>\n",
       "      <th>job_requirements</th>\n",
       "      <th>job_classifiation</th>\n",
       "      <th>short_description</th>\n",
       "      <th>salary_ind</th>\n",
       "      <th>date_posted</th>\n",
       "      <th>work_type</th>\n",
       "      <th>long_description</th>\n",
       "    </tr>\n",
       "  </thead>\n",
       "  <tbody>\n",
       "    <tr>\n",
       "      <th>0</th>\n",
       "      <td>0</td>\n",
       "      <td>Data Analyst</td>\n",
       "      <td>/job/54942621?type=promoted#searchRequestToken...</td>\n",
       "      <td>Virtually Human Studio</td>\n",
       "      <td>NaN</td>\n",
       "      <td>Melbourne</td>\n",
       "      <td>NaN</td>\n",
       "      <td>Information &amp; Communication Technology</td>\n",
       "      <td>Cutting edge tech start-up within Blockchain a...</td>\n",
       "      <td>0-60000</td>\n",
       "      <td>Posted 4h ago</td>\n",
       "      <td>Full time</td>\n",
       "      <td>Want to work for a cutting edge tech start-up ...</td>\n",
       "    </tr>\n",
       "    <tr>\n",
       "      <th>1</th>\n",
       "      <td>1</td>\n",
       "      <td>Search Engine Optimisation Specialist - 6-12mt...</td>\n",
       "      <td>/job/54909458?type=promoted#searchRequestToken...</td>\n",
       "      <td>ReachLocal</td>\n",
       "      <td>NaN</td>\n",
       "      <td>Sydney</td>\n",
       "      <td>NaN</td>\n",
       "      <td>Marketing &amp; Communications</td>\n",
       "      <td>We're growing and on the hunt for talented sav...</td>\n",
       "      <td>0-60000</td>\n",
       "      <td>Posted 1d ago</td>\n",
       "      <td>Contract/Temp</td>\n",
       "      <td>A bit about us... ReachLocal is a global leade...</td>\n",
       "    </tr>\n",
       "    <tr>\n",
       "      <th>2</th>\n",
       "      <td>2</td>\n",
       "      <td>Junior Data Analyst</td>\n",
       "      <td>/job/54930269?type=standout#searchRequestToken...</td>\n",
       "      <td>City of Greater Geelong</td>\n",
       "      <td>NaN</td>\n",
       "      <td>South West Coast VIC</td>\n",
       "      <td>NaN</td>\n",
       "      <td>Administration &amp; Office Support</td>\n",
       "      <td>This 6-months opportunity as a Junior Data Ana...</td>\n",
       "      <td>0-60000</td>\n",
       "      <td>Posted 12h ago</td>\n",
       "      <td>Contract/Temp</td>\n",
       "      <td>About usWe are committed to working together f...</td>\n",
       "    </tr>\n",
       "    <tr>\n",
       "      <th>3</th>\n",
       "      <td>3</td>\n",
       "      <td>Junior Data Analyst</td>\n",
       "      <td>/job/54908415?type=standout#searchRequestToken...</td>\n",
       "      <td>MyXplor</td>\n",
       "      <td>NaN</td>\n",
       "      <td>Melbourne</td>\n",
       "      <td>NaN</td>\n",
       "      <td>Information &amp; Communication Technology</td>\n",
       "      <td>Take a seat on the Xplor rocketship and join u...</td>\n",
       "      <td>0-60000</td>\n",
       "      <td>Posted 1d ago</td>\n",
       "      <td>Full time</td>\n",
       "      <td>Company DescriptionTake a seat on the Xplor ro...</td>\n",
       "    </tr>\n",
       "    <tr>\n",
       "      <th>4</th>\n",
       "      <td>4</td>\n",
       "      <td>Junior Data Analyst</td>\n",
       "      <td>/job/54935065?type=standard#searchRequestToken...</td>\n",
       "      <td>SustainAbility Consulting</td>\n",
       "      <td>Up to $78k + super + benefits</td>\n",
       "      <td>Sydney</td>\n",
       "      <td>NaN</td>\n",
       "      <td>Information &amp; Communication Technology</td>\n",
       "      <td>Are you looking for a world-class Junior Data ...</td>\n",
       "      <td>0-60000</td>\n",
       "      <td>Posted 10h ago</td>\n",
       "      <td>Up to $78k + super + benefitsFull time</td>\n",
       "      <td>Our client is a specialist provider of a range...</td>\n",
       "    </tr>\n",
       "  </tbody>\n",
       "</table>\n",
       "</div>"
      ],
      "text/plain": [
       "   Unnamed: 0                                          job_title  \\\n",
       "0           0                                       Data Analyst   \n",
       "1           1  Search Engine Optimisation Specialist - 6-12mt...   \n",
       "2           2                                Junior Data Analyst   \n",
       "3           3                                Junior Data Analyst   \n",
       "4           4                                Junior Data Analyst   \n",
       "\n",
       "                                            job_link  \\\n",
       "0  /job/54942621?type=promoted#searchRequestToken...   \n",
       "1  /job/54909458?type=promoted#searchRequestToken...   \n",
       "2  /job/54930269?type=standout#searchRequestToken...   \n",
       "3  /job/54908415?type=standout#searchRequestToken...   \n",
       "4  /job/54935065?type=standard#searchRequestToken...   \n",
       "\n",
       "                company_name                         salary  \\\n",
       "0     Virtually Human Studio                            NaN   \n",
       "1                 ReachLocal                            NaN   \n",
       "2    City of Greater Geelong                            NaN   \n",
       "3                    MyXplor                            NaN   \n",
       "4  SustainAbility Consulting  Up to $78k + super + benefits   \n",
       "\n",
       "           job_location  job_requirements  \\\n",
       "0             Melbourne               NaN   \n",
       "1                Sydney               NaN   \n",
       "2  South West Coast VIC               NaN   \n",
       "3             Melbourne               NaN   \n",
       "4                Sydney               NaN   \n",
       "\n",
       "                        job_classifiation  \\\n",
       "0  Information & Communication Technology   \n",
       "1              Marketing & Communications   \n",
       "2         Administration & Office Support   \n",
       "3  Information & Communication Technology   \n",
       "4  Information & Communication Technology   \n",
       "\n",
       "                                   short_description salary_ind  \\\n",
       "0  Cutting edge tech start-up within Blockchain a...    0-60000   \n",
       "1  We're growing and on the hunt for talented sav...    0-60000   \n",
       "2  This 6-months opportunity as a Junior Data Ana...    0-60000   \n",
       "3  Take a seat on the Xplor rocketship and join u...    0-60000   \n",
       "4  Are you looking for a world-class Junior Data ...    0-60000   \n",
       "\n",
       "      date_posted                               work_type  \\\n",
       "0   Posted 4h ago                               Full time   \n",
       "1   Posted 1d ago                           Contract/Temp   \n",
       "2  Posted 12h ago                           Contract/Temp   \n",
       "3   Posted 1d ago                               Full time   \n",
       "4  Posted 10h ago  Up to $78k + super + benefitsFull time   \n",
       "\n",
       "                                    long_description  \n",
       "0  Want to work for a cutting edge tech start-up ...  \n",
       "1  A bit about us... ReachLocal is a global leade...  \n",
       "2  About usWe are committed to working together f...  \n",
       "3  Company DescriptionTake a seat on the Xplor ro...  \n",
       "4  Our client is a specialist provider of a range...  "
      ]
     },
     "execution_count": 3,
     "metadata": {},
     "output_type": "execute_result"
    }
   ],
   "source": [
    "data_jobs_AU.head()"
   ]
  },
  {
   "cell_type": "code",
   "execution_count": 7,
   "id": "d9d63a0c",
   "metadata": {},
   "outputs": [
    {
     "data": {
      "text/plain": [
       "Unnamed: 0              0\n",
       "job_title               0\n",
       "job_link                0\n",
       "company_name           37\n",
       "salary               2673\n",
       "job_location            0\n",
       "job_requirements     4085\n",
       "job_classifiation       0\n",
       "short_description       0\n",
       "salary_ind              0\n",
       "date_posted             0\n",
       "work_type               0\n",
       "long_description        0\n",
       "dtype: int64"
      ]
     },
     "execution_count": 7,
     "metadata": {},
     "output_type": "execute_result"
    }
   ],
   "source": [
    "data_jobs_AU.isnull().sum()"
   ]
  },
  {
   "cell_type": "code",
   "execution_count": 8,
   "id": "c5e0b827",
   "metadata": {},
   "outputs": [
    {
     "ename": "NameError",
     "evalue": "name 'data_jobs_nz' is not defined",
     "output_type": "error",
     "traceback": [
      "\u001b[0;31m---------------------------------------------------------------------------\u001b[0m",
      "\u001b[0;31mNameError\u001b[0m                                 Traceback (most recent call last)",
      "\u001b[0;32m<ipython-input-8-fb75ba93e673>\u001b[0m in \u001b[0;36m<module>\u001b[0;34m\u001b[0m\n\u001b[0;32m----> 1\u001b[0;31m \u001b[0mdata_jobs_nz\u001b[0m\u001b[0;34m[\u001b[0m\u001b[0mdata_jobs_nz\u001b[0m\u001b[0;34m[\u001b[0m\u001b[0;34m'work_type'\u001b[0m\u001b[0;34m]\u001b[0m\u001b[0;34m.\u001b[0m\u001b[0misnull\u001b[0m\u001b[0;34m(\u001b[0m\u001b[0;34m)\u001b[0m\u001b[0;34m]\u001b[0m\u001b[0;34m\u001b[0m\u001b[0;34m\u001b[0m\u001b[0m\n\u001b[0m",
      "\u001b[0;31mNameError\u001b[0m: name 'data_jobs_nz' is not defined"
     ]
    }
   ],
   "source": [
    "data_jobs_nz[data_jobs_nz['work_type'].isnull()]"
   ]
  },
  {
   "cell_type": "code",
   "execution_count": null,
   "id": "f0f5304e",
   "metadata": {},
   "outputs": [],
   "source": [
    "data_jobs_nz = filter"
   ]
  },
  {
   "cell_type": "code",
   "execution_count": 5,
   "id": "4eec4f6f",
   "metadata": {},
   "outputs": [
    {
     "data": {
      "text/plain": [
       "Business Analyst                              198\n",
       "Data Engineer                                 103\n",
       "Data Analyst                                   90\n",
       "Senior Business Analyst                        90\n",
       "Technical Business Analyst                     52\n",
       "                                             ... \n",
       "Residential Property Analyst                    1\n",
       "Data and Automation Engineer (FMCG)             1\n",
       "Senior Collections Strategy Analyst             1\n",
       "Investigations Specialist (Work from Home)      1\n",
       "Data Platform Engineer                          1\n",
       "Name: job_title, Length: 2573, dtype: int64"
      ]
     },
     "execution_count": 5,
     "metadata": {},
     "output_type": "execute_result"
    }
   ],
   "source": [
    "job_title = data_jobs_AU['job_title'].value_counts()\n",
    "job_title"
   ]
  },
  {
   "cell_type": "code",
   "execution_count": 9,
   "id": "c111592f",
   "metadata": {},
   "outputs": [
    {
     "data": {
      "text/plain": [
       "0-60000          3902\n",
       "60000-80000        85\n",
       "80000-100000       46\n",
       "100000-120000      21\n",
       "120000-150000      16\n",
       "150000-200000      15\n",
       "Name: salary_ind, dtype: int64"
      ]
     },
     "execution_count": 9,
     "metadata": {},
     "output_type": "execute_result"
    }
   ],
   "source": [
    "data_jobs_AU['salary_ind'].value_counts()"
   ]
  },
  {
   "cell_type": "code",
   "execution_count": 33,
   "id": "0426648c",
   "metadata": {},
   "outputs": [
    {
     "data": {
      "text/plain": [
       "\"Product AnalystAs a Product Analyst you will conduct market analysis and continuous product evaluation to assist us in developing modern products, make recommendations on emerging trends and measure performance.Day to day, you will provide support and operational expertise for our digital platforms, content delivery endpoints, web based applications and relevant internal tools.You will have a broad skill set that combines analytical, research, web and general IT skills.\\xa0 Working in a close-knit team and managing multiple stakeholders across the organisation, you will have the ability to put people at ease, communicate effectively and be agile to support the organisations’ fast evolving needs.\\xa0What we are looking for:2+ years in market research or product development, business or product analysisProject experience and the ability to work through processes and workflows with impeccable attention to detail2+ years of web experience working with backend systems with strong exposure to advanced troubleshootingLove to improve and develop systemsDesire to create great user oriented productsExperience working with web servers, web services and microservices is essentialExperience in web development and relevant programming languages like JS, CSS, PHP is desiredSQL database, web design and testing experience is an advantageExperience providing IT service delivery within an ITIL compliant environmentExperience in Agile ways of working and iterative deliveryAdaptability to new technologies and applications is essentialAbility to effectively formulate and present your findings, research results and recommendations is essentialExcellent learning capacityExcellent communications skills both written and verbalFlexibility and a great attitudeUse your experience to make a difference. Apply now!\\xa0Applications close:\\xa0 Friday, 10 December 2021 @ 5pmPlease note: we encourage early applications for this role as we will be reviewing and shortlisting applications as they are received.Employer questionsYour application will include the following questions:Which of the following statements best describes your right to work in New Zealand?What's your expected annual base salary?Report this job advertBe carefulDon’t provide your bank or credit card details when applying for jobs.Learn how to protect yourself here.Report this job ad \""
      ]
     },
     "execution_count": 33,
     "metadata": {},
     "output_type": "execute_result"
    }
   ],
   "source": [
    "url = 'https://www.seek.co.nz/job/54816652?type=promoted#searchRequestToken=f6db22fd-3e9d-465c-9604-38126a89d4cd'\n",
    "res = requests.get(url)\n",
    "soup = BeautifulSoup(res.content, features='html.parser')\n",
    "\n",
    "date_posted = soup.find_all('div', attrs ={'class':'yvsb870 _14uh9944m'})[3].get_text() \n",
    "work_type=soup.find('div', {'data-automation':'job-detail-work-type'}).get_text()\n",
    "long_description = soup.find_all('div', attrs ={'class':'yvsb870 _14uh9944m'})[-1].get_text()\n",
    "long_description"
   ]
  },
  {
   "cell_type": "code",
   "execution_count": null,
   "id": "0ad6c858",
   "metadata": {},
   "outputs": [],
   "source": []
  }
 ],
 "metadata": {
  "kernelspec": {
   "display_name": "Python 3",
   "language": "python",
   "name": "python3"
  },
  "language_info": {
   "codemirror_mode": {
    "name": "ipython",
    "version": 3
   },
   "file_extension": ".py",
   "mimetype": "text/x-python",
   "name": "python",
   "nbconvert_exporter": "python",
   "pygments_lexer": "ipython3",
   "version": "3.8.8"
  }
 },
 "nbformat": 4,
 "nbformat_minor": 5
}
